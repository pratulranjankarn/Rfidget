{
 "cells": [
  {
   "cell_type": "code",
   "execution_count": 1,
   "id": "d36384a5",
   "metadata": {},
   "outputs": [],
   "source": [
    "# importing required libraries\n",
    "import obspy as ob\n",
    "import wget\n",
    "import math\n",
    "from itertools import permutations\n",
    "import numpy as np\n",
    "from datetime import datetime\n",
    "import matplotlib.pyplot as plt\n",
    "import matplotlib\n",
    "import matplotlib.dates as mdates"
   ]
  },
  {
   "cell_type": "code",
   "execution_count": 2,
   "id": "78f1ef68",
   "metadata": {},
   "outputs": [],
   "source": [
    "url='https://taps.earth.sinica.edu.tw/rfi/seed/RCEC7A/TW-RCEC7A_10-BNX.mseed'\n",
    "#df = wget.download(url) # downloading the data from the url"
   ]
  },
  {
   "cell_type": "code",
   "execution_count": 3,
   "id": "7b080fb2",
   "metadata": {},
   "outputs": [],
   "source": [
    "fl = ob.read('TW-RCEC7A_10-BNX.mseed') # reading the mseed file to an obspy stream object"
   ]
  },
  {
   "cell_type": "code",
   "execution_count": 48,
   "id": "48b4936c",
   "metadata": {},
   "outputs": [],
   "source": [
    "fl[0].stats # Trace stats\n",
    "\n",
    "%matplotlib qt # plotting in a matplotlib window\n",
    "\n",
    "# plotting the trace\n",
    "fig = plt.figure()\n",
    "ax = fig.add_subplot(1, 1, 1)\n",
    "ax.plot(fl[0].times(\"matplotlib\"), fl[0].data, \"b-\")\n",
    "ax.xaxis_date()\n",
    "fig.autofmt_xdate()\n",
    "plt.show()"
   ]
  },
  {
   "cell_type": "code",
   "execution_count": 58,
   "id": "23b001f9",
   "metadata": {},
   "outputs": [
    {
     "name": "stdout",
     "output_type": "stream",
     "text": [
      "179\n"
     ]
    }
   ],
   "source": [
    "# Deciding the data samples to be used for permutation entropy calculation\n",
    "\n",
    "d_time = int(480) # time spacing in seconds between start of each data sample\n",
    "l_smpl = int(600) # length of each data sample in seconds\n",
    "idx = np.arange(0,fl[0].stats.npts-l_smpl*fl[0].stats.sampling_rate, \\\n",
    "                fl[0].stats.sampling_rate*d_time,dtype='int64') # indexes for permutation entropy calculation\n",
    "n_iter = len(idx)\n",
    "print(len(idx))"
   ]
  },
  {
   "cell_type": "code",
   "execution_count": 63,
   "id": "6b36c7b1",
   "metadata": {},
   "outputs": [],
   "source": [
    "# Function to calculate permutation entropy\n",
    "\n",
    "def permuentropy(dta,m,L):\n",
    "# data = dta\n",
    "# embedding dimension of the time series = m\n",
    "# time delay used for embedding = L\n",
    "\n",
    "#If the user wants to find complexity variations in a time series\n",
    "#it is recommended that m > 3 and m < 8, while the length of data\n",
    "#should be > 5*m!\n",
    "\n",
    "    # length of the data vector = dta_len\n",
    "    dta_len = len(dta)\n",
    "    # number of vectors in embedding space\n",
    "    no_vector = dta_len - (m-1)*L\n",
    "    # estimate factorial of m\n",
    "    mm = math.factorial(m)\n",
    "    # list of all permutations\n",
    "    permlist = list(permutations(np.arange(0,m,1)))\n",
    "    # creating dictionary of all permutations\n",
    "    permdict={}\n",
    "    for i in range(0,mm):\n",
    "        permdict[str(permlist[i][:])] = i\n",
    "    #print(permdict)\n",
    "    # initialize pattern of permutations and other temp vectors to 0\n",
    "    c = np.zeros((mm,1))\n",
    "    # loop over number of vectors\n",
    "    for i in range(0,no_vector):\n",
    "        #continue\n",
    "        idx = np.arange(i,i+m*L,L)\n",
    "        # find coordimates of each point in m-space\n",
    "        a = dta[idx]\n",
    "        # sort co-ordinates in ascending order\n",
    "        iv = np.argsort(a)\n",
    "        # search dictionary for pattern and get the pattern index\n",
    "        srchkey = str(tuple(iv))\n",
    "        if srchkey in permdict:\n",
    "            jj = permdict[srchkey]\n",
    "        c[jj] = c[jj] + 1\n",
    "\n",
    "    # calculate the relative frequency of c\n",
    "    c = c/no_vector;\n",
    "    pe = 0;\n",
    "    # sum up and estimate permutation entropy\n",
    "    pe = sum(-c[c!=0] * np.log(c[c!=0]))\n",
    "    # alternate\n",
    "        #for k in range(0,mm):\n",
    "        #    if c[k] != 0:\n",
    "        #        pe = pe - c[k]*(math.log(c[k]))\n",
    "    \n",
    "    # normalize permutation entropy by ln(m!)\n",
    "    pe = pe/(math.log(mm))\n",
    "    \n",
    "    return pe,c"
   ]
  },
  {
   "cell_type": "code",
   "execution_count": 64,
   "id": "e0f51514",
   "metadata": {},
   "outputs": [
    {
     "name": "stdout",
     "output_type": "stream",
     "text": [
      "0:00:45.232058\n"
     ]
    }
   ],
   "source": [
    "# permutation entropy calculation\n",
    "strt = datetime.now()\n",
    "L = 2 # Sample delay used for embedding \n",
    "m = 5 # Embedding dimension\n",
    "tmp = fl[0].data # Original data\n",
    "pe = np.zeros((n_iter,1)) # Array to store pe values\n",
    "time_x = np.empty((n_iter,1),dtype='datetime64[s]') # Array to store time values\n",
    "for i in range(0,n_iter):\n",
    "    dta = tmp[idx[i]:idx[i]+l_smpl*int(fl[0].stats.sampling_rate)] # Creating a data sample\n",
    "    pe[i],c = permuentropy(dta,m,L) # calculating permutation entropy for the data sample\n",
    "    time_x[i] = fl[0].stats.starttime + \\\n",
    "    (idx[i]+idx[i]+l_smpl*int(fl[0].stats.sampling_rate)) \\\n",
    "    /(int(fl[0].stats.sampling_rate)*2) # Storing time corresponding to each data sample\n",
    "print(datetime.now()-strt) # displaying running time of pe calculations"
   ]
  },
  {
   "cell_type": "code",
   "execution_count": 62,
   "id": "0fc1e7a7",
   "metadata": {},
   "outputs": [
    {
     "data": {
      "text/plain": [
       "[<matplotlib.lines.Line2D at 0x7fc5c6a4ef60>]"
      ]
     },
     "execution_count": 62,
     "metadata": {},
     "output_type": "execute_result"
    }
   ],
   "source": [
    "# plotting the pe values with time\n",
    "\n",
    "%matplotlib qt\n",
    "\n",
    "fig, ax = plt.subplots()\n",
    "ax.plot(time_x,pe)"
   ]
  }
 ],
 "metadata": {
  "kernelspec": {
   "display_name": "Python 3",
   "language": "python",
   "name": "python3"
  },
  "language_info": {
   "codemirror_mode": {
    "name": "ipython",
    "version": 3
   },
   "file_extension": ".py",
   "mimetype": "text/x-python",
   "name": "python",
   "nbconvert_exporter": "python",
   "pygments_lexer": "ipython3",
   "version": "3.7.3"
  }
 },
 "nbformat": 4,
 "nbformat_minor": 5
}
